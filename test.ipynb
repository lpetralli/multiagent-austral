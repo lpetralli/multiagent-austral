{
 "cells": [
  {
   "cell_type": "code",
   "execution_count": 1,
   "metadata": {},
   "outputs": [],
   "source": [
    "from langchain_openai import ChatOpenAI\n",
    "from langgraph_supervisor import create_supervisor\n",
    "from langgraph.prebuilt import create_react_agent"
   ]
  },
  {
   "cell_type": "code",
   "execution_count": 2,
   "metadata": {},
   "outputs": [],
   "source": [
    "model = ChatOpenAI(model=\"gpt-4o\")"
   ]
  },
  {
   "cell_type": "code",
   "execution_count": 3,
   "metadata": {},
   "outputs": [],
   "source": [
    "from tools import add_employee_learning_status, create_one_mail_draft"
   ]
  },
  {
   "cell_type": "code",
   "execution_count": 5,
   "metadata": {},
   "outputs": [],
   "source": [
    "employee_agent = create_react_agent(\n",
    "    model=model,\n",
    "    tools=[add_employee_learning_status],\n",
    "    name=\"employee_agent\",\n",
    "    prompt=\"You are an employee agent responsible for managing employee learning status records. You have access to tools that can add employee learning status information to the system. Always use one tool at a time and only when necessary.\"\n",
    ")\n",
    "\n",
    "mail_agent = create_react_agent(\n",
    "    model=model,\n",
    "    tools=[create_one_mail_draft],\n",
    "    name=\"mail_agent\",\n",
    "    prompt=\"You are a mail agent responsible for creating mail drafts. You have access to tools that can create mail drafts. Always use one tool at a time and only when necessary. You can't create more than one mail draft at a time.\"\n",
    ")\n",
    "\n",
    "# Create supervisor workflow\n",
    "workflow = create_supervisor(\n",
    "    [employee_agent, mail_agent],\n",
    "    model=model,\n",
    "    output_mode=\"last_message\", # \"full_history\"\n",
    "    prompt=(\n",
    "        \"You are a team supervisor managing a employee agent and a mail agent. \"\n",
    "        \"For employee learning status records, use employee_agent. \"\n",
    "        \"For mail drafts, use mail_agent.\"\n",
    "    )\n",
    ")"
   ]
  },
  {
   "cell_type": "code",
   "execution_count": 6,
   "metadata": {},
   "outputs": [],
   "source": [
    "# Compile and run\n",
    "app = workflow.compile() # TODO add memory"
   ]
  },
  {
   "cell_type": "code",
   "execution_count": 7,
   "metadata": {},
   "outputs": [
    {
     "name": "stdout",
     "output_type": "stream",
     "text": [
      "{'supervisor': [{'messages': [HumanMessage(content='Can you please remind lucas@mail.com that he has to attend the training on 28/02/2025?', additional_kwargs={}, response_metadata={}, id='d14852e3-6d08-40f5-b342-fec0f18321f5'), AIMessage(content='', additional_kwargs={'tool_calls': [{'id': 'call_dOnxYZu5Cg3nqPG7q7ePUqBe', 'function': {'arguments': '{}', 'name': 'transfer_to_mail_agent'}, 'type': 'function'}], 'refusal': None}, response_metadata={'token_usage': {'completion_tokens': 13, 'prompt_tokens': 111, 'total_tokens': 124, 'completion_tokens_details': {'accepted_prediction_tokens': 0, 'audio_tokens': 0, 'reasoning_tokens': 0, 'rejected_prediction_tokens': 0}, 'prompt_tokens_details': {'audio_tokens': 0, 'cached_tokens': 0}}, 'model_name': 'gpt-4o-2024-08-06', 'system_fingerprint': 'fp_f9f4fb6dbf', 'finish_reason': 'tool_calls', 'logprobs': None}, name='supervisor', id='run-a208fce7-20c2-4dfd-bc67-5a1e2c1e5b29-0', tool_calls=[{'name': 'transfer_to_mail_agent', 'args': {}, 'id': 'call_dOnxYZu5Cg3nqPG7q7ePUqBe', 'type': 'tool_call'}], usage_metadata={'input_tokens': 111, 'output_tokens': 13, 'total_tokens': 124, 'input_token_details': {'audio': 0, 'cache_read': 0}, 'output_token_details': {'audio': 0, 'reasoning': 0}})]}, {'messages': [ToolMessage(content='Successfully transferred to mail_agent', name='transfer_to_mail_agent', id='45c4d6c0-9e1e-41af-945e-12ee8ddfd615', tool_call_id='call_dOnxYZu5Cg3nqPG7q7ePUqBe')]}]}\n",
      "{'mail_agent': {'messages': [AIMessage(content='The reminder email draft has been successfully created for Lucas to attend the training on February 28, 2025.', additional_kwargs={'refusal': None}, response_metadata={'token_usage': {'completion_tokens': 25, 'prompt_tokens': 323, 'total_tokens': 348, 'completion_tokens_details': {'accepted_prediction_tokens': 0, 'audio_tokens': 0, 'reasoning_tokens': 0, 'rejected_prediction_tokens': 0}, 'prompt_tokens_details': {'audio_tokens': 0, 'cached_tokens': 0}}, 'model_name': 'gpt-4o-2024-08-06', 'system_fingerprint': 'fp_f9f4fb6dbf', 'finish_reason': 'stop', 'logprobs': None}, name='mail_agent', id='run-e8d8d879-9e31-45ac-8e23-f7f213692ec2-0', usage_metadata={'input_tokens': 323, 'output_tokens': 25, 'total_tokens': 348, 'input_token_details': {'audio': 0, 'cache_read': 0}, 'output_token_details': {'audio': 0, 'reasoning': 0}}), AIMessage(content='Transferring back to supervisor', additional_kwargs={}, response_metadata={}, name='mail_agent', id='9c990900-e64f-43c2-83e3-cd2d964f5491', tool_calls=[{'name': 'transfer_back_to_supervisor', 'args': {}, 'id': '301e756d-400a-431e-9bf0-01ef261c945f', 'type': 'tool_call'}]), ToolMessage(content='Successfully transferred back to supervisor', name='transfer_back_to_supervisor', id='36eeaaeb-04a6-4223-837e-f563f56dfa51', tool_call_id='301e756d-400a-431e-9bf0-01ef261c945f')]}}\n",
      "{'supervisor': {'messages': [HumanMessage(content='Can you please remind lucas@mail.com that he has to attend the training on 28/02/2025?', additional_kwargs={}, response_metadata={}, id='d14852e3-6d08-40f5-b342-fec0f18321f5'), AIMessage(content='', additional_kwargs={'tool_calls': [{'id': 'call_dOnxYZu5Cg3nqPG7q7ePUqBe', 'function': {'arguments': '{}', 'name': 'transfer_to_mail_agent'}, 'type': 'function'}], 'refusal': None}, response_metadata={'token_usage': {'completion_tokens': 13, 'prompt_tokens': 111, 'total_tokens': 124, 'completion_tokens_details': {'accepted_prediction_tokens': 0, 'audio_tokens': 0, 'reasoning_tokens': 0, 'rejected_prediction_tokens': 0}, 'prompt_tokens_details': {'audio_tokens': 0, 'cached_tokens': 0}}, 'model_name': 'gpt-4o-2024-08-06', 'system_fingerprint': 'fp_f9f4fb6dbf', 'finish_reason': 'tool_calls', 'logprobs': None}, name='supervisor', id='run-a208fce7-20c2-4dfd-bc67-5a1e2c1e5b29-0', tool_calls=[{'name': 'transfer_to_mail_agent', 'args': {}, 'id': 'call_dOnxYZu5Cg3nqPG7q7ePUqBe', 'type': 'tool_call'}], usage_metadata={'input_tokens': 111, 'output_tokens': 13, 'total_tokens': 124, 'input_token_details': {'audio': 0, 'cache_read': 0}, 'output_token_details': {'audio': 0, 'reasoning': 0}}), ToolMessage(content='Successfully transferred to mail_agent', name='transfer_to_mail_agent', id='45c4d6c0-9e1e-41af-945e-12ee8ddfd615', tool_call_id='call_dOnxYZu5Cg3nqPG7q7ePUqBe'), AIMessage(content='The reminder email draft has been successfully created for Lucas to attend the training on February 28, 2025.', additional_kwargs={'refusal': None}, response_metadata={'token_usage': {'completion_tokens': 25, 'prompt_tokens': 323, 'total_tokens': 348, 'completion_tokens_details': {'accepted_prediction_tokens': 0, 'audio_tokens': 0, 'reasoning_tokens': 0, 'rejected_prediction_tokens': 0}, 'prompt_tokens_details': {'audio_tokens': 0, 'cached_tokens': 0}}, 'model_name': 'gpt-4o-2024-08-06', 'system_fingerprint': 'fp_f9f4fb6dbf', 'finish_reason': 'stop', 'logprobs': None}, name='mail_agent', id='run-e8d8d879-9e31-45ac-8e23-f7f213692ec2-0', usage_metadata={'input_tokens': 323, 'output_tokens': 25, 'total_tokens': 348, 'input_token_details': {'audio': 0, 'cache_read': 0}, 'output_token_details': {'audio': 0, 'reasoning': 0}}), AIMessage(content='Transferring back to supervisor', additional_kwargs={}, response_metadata={}, name='mail_agent', id='9c990900-e64f-43c2-83e3-cd2d964f5491', tool_calls=[{'name': 'transfer_back_to_supervisor', 'args': {}, 'id': '301e756d-400a-431e-9bf0-01ef261c945f', 'type': 'tool_call'}]), ToolMessage(content='Successfully transferred back to supervisor', name='transfer_back_to_supervisor', id='36eeaaeb-04a6-4223-837e-f563f56dfa51', tool_call_id='301e756d-400a-431e-9bf0-01ef261c945f'), AIMessage(content='The reminder email draft for Lucas has been successfully created. If you need any further assistance, feel free to let me know!', additional_kwargs={'refusal': None}, response_metadata={'token_usage': {'completion_tokens': 27, 'prompt_tokens': 216, 'total_tokens': 243, 'completion_tokens_details': {'accepted_prediction_tokens': 0, 'audio_tokens': 0, 'reasoning_tokens': 0, 'rejected_prediction_tokens': 0}, 'prompt_tokens_details': {'audio_tokens': 0, 'cached_tokens': 0}}, 'model_name': 'gpt-4o-2024-08-06', 'system_fingerprint': 'fp_f9f4fb6dbf', 'finish_reason': 'stop', 'logprobs': None}, name='supervisor', id='run-1fb449da-707b-43ed-a332-9ab7393f4f1a-0', usage_metadata={'input_tokens': 216, 'output_tokens': 27, 'total_tokens': 243, 'input_token_details': {'audio': 0, 'cache_read': 0}, 'output_token_details': {'audio': 0, 'reasoning': 0}})]}}\n"
     ]
    }
   ],
   "source": [
    "for chunk in app.stream({\n",
    "    \"messages\": [\n",
    "        {\n",
    "            \"role\": \"user\",\n",
    "            \"content\": \"Can you please remind lucas@mail.com that he has to attend the training on 28/02/2025?\"\n",
    "        }\n",
    "    ]\n",
    "}, stream_mode=\"updates\"):\n",
    "    print(chunk)"
   ]
  },
  {
   "cell_type": "code",
   "execution_count": 9,
   "metadata": {},
   "outputs": [
    {
     "name": "stdout",
     "output_type": "stream",
     "text": [
      "Final result:\n",
      "{'messages': [HumanMessage(content='Add learning status for employee John Doe: completed Python course on 2023-05-15 with score 95/100', additional_kwargs={}, response_metadata={}, id='f7974475-b0d9-4dc8-9bb6-76c3b97b3e6e'), AIMessage(content='', additional_kwargs={'tool_calls': [{'id': 'call_irDo0wrxiF93HMMp6EKvY4Hk', 'function': {'arguments': '{}', 'name': 'transfer_to_employee_agent'}, 'type': 'function'}], 'refusal': None}, response_metadata={'token_usage': {'completion_tokens': 13, 'prompt_tokens': 112, 'total_tokens': 125, 'completion_tokens_details': {'accepted_prediction_tokens': 0, 'audio_tokens': 0, 'reasoning_tokens': 0, 'rejected_prediction_tokens': 0}, 'prompt_tokens_details': {'audio_tokens': 0, 'cached_tokens': 0}}, 'model_name': 'gpt-4o-2024-08-06', 'system_fingerprint': 'fp_f9f4fb6dbf', 'finish_reason': 'tool_calls', 'logprobs': None}, name='supervisor', id='run-72dbee78-3cad-4c06-a8d7-52068f4f3e34-0', tool_calls=[{'name': 'transfer_to_employee_agent', 'args': {}, 'id': 'call_irDo0wrxiF93HMMp6EKvY4Hk', 'type': 'tool_call'}], usage_metadata={'input_tokens': 112, 'output_tokens': 13, 'total_tokens': 125, 'input_token_details': {'audio': 0, 'cache_read': 0}, 'output_token_details': {'audio': 0, 'reasoning': 0}}), ToolMessage(content='Successfully transferred to employee_agent', name='transfer_to_employee_agent', id='7b2f5460-6ce5-49cb-b17c-986feb72f4d9', tool_call_id='call_irDo0wrxiF93HMMp6EKvY4Hk'), AIMessage(content='I\\'ve received the record of John Doe\\'s completion of the Python course on 2023-05-15 with a score of 95/100. Let\\'s proceed with adding his learning status to the system. Could you please indicate whether he belongs to a specific department, and if he needs to be marked as \"SI\" (completed) or \"NO\" (not completed) for his learning status?', additional_kwargs={'refusal': None}, response_metadata={'token_usage': {'completion_tokens': 82, 'prompt_tokens': 223, 'total_tokens': 305, 'completion_tokens_details': {'accepted_prediction_tokens': 0, 'audio_tokens': 0, 'reasoning_tokens': 0, 'rejected_prediction_tokens': 0}, 'prompt_tokens_details': {'audio_tokens': 0, 'cached_tokens': 0}}, 'model_name': 'gpt-4o-2024-08-06', 'system_fingerprint': 'fp_eb9dce56a8', 'finish_reason': 'stop', 'logprobs': None}, name='employee_agent', id='run-ff78fd97-f52f-4060-9fd3-071928be1af4-0', usage_metadata={'input_tokens': 223, 'output_tokens': 82, 'total_tokens': 305, 'input_token_details': {'audio': 0, 'cache_read': 0}, 'output_token_details': {'audio': 0, 'reasoning': 0}}), AIMessage(content='Transferring back to supervisor', additional_kwargs={}, response_metadata={}, name='employee_agent', id='c666712a-55fc-46b0-bbe6-30081b1d4735', tool_calls=[{'name': 'transfer_back_to_supervisor', 'args': {}, 'id': '13f04310-aaae-48f3-a63d-70d58e152215', 'type': 'tool_call'}]), ToolMessage(content='Successfully transferred back to supervisor', name='transfer_back_to_supervisor', id='6b3d48dd-c077-400c-8b11-78f7b7b0b092', tool_call_id='13f04310-aaae-48f3-a63d-70d58e152215'), AIMessage(content='John Doe should be marked as \"SI\" (completed) for his learning status. Could you please proceed with updating his learning records?', additional_kwargs={'refusal': None}, response_metadata={'token_usage': {'completion_tokens': 29, 'prompt_tokens': 274, 'total_tokens': 303, 'completion_tokens_details': {'accepted_prediction_tokens': 0, 'audio_tokens': 0, 'reasoning_tokens': 0, 'rejected_prediction_tokens': 0}, 'prompt_tokens_details': {'audio_tokens': 0, 'cached_tokens': 0}}, 'model_name': 'gpt-4o-2024-08-06', 'system_fingerprint': 'fp_f9f4fb6dbf', 'finish_reason': 'stop', 'logprobs': None}, name='supervisor', id='run-0e927add-1505-40bb-a5fb-191e013109b9-0', usage_metadata={'input_tokens': 274, 'output_tokens': 29, 'total_tokens': 303, 'input_token_details': {'audio': 0, 'cache_read': 0}, 'output_token_details': {'audio': 0, 'reasoning': 0}})]}\n"
     ]
    }
   ],
   "source": [
    "# Invoke with initial state\n",
    "result = app.invoke({\n",
    "    \"messages\": [\n",
    "        {\n",
    "            \"role\": \"user\",\n",
    "            \"content\": \"Add learning status for employee John Doe: completed Python course on 2023-05-15 with score 95/100\"\n",
    "        }\n",
    "    ]\n",
    "})\n",
    "\n",
    "# Display the result\n",
    "print(\"Final result:\")\n",
    "print(result)\n"
   ]
  },
  {
   "cell_type": "code",
   "execution_count": 10,
   "metadata": {},
   "outputs": [
    {
     "data": {
      "text/plain": [
       "{'messages': [HumanMessage(content='Add learning status for employee John Doe: completed Python course on 2023-05-15 with score 95/100', additional_kwargs={}, response_metadata={}, id='f7974475-b0d9-4dc8-9bb6-76c3b97b3e6e'),\n",
       "  AIMessage(content='', additional_kwargs={'tool_calls': [{'id': 'call_irDo0wrxiF93HMMp6EKvY4Hk', 'function': {'arguments': '{}', 'name': 'transfer_to_employee_agent'}, 'type': 'function'}], 'refusal': None}, response_metadata={'token_usage': {'completion_tokens': 13, 'prompt_tokens': 112, 'total_tokens': 125, 'completion_tokens_details': {'accepted_prediction_tokens': 0, 'audio_tokens': 0, 'reasoning_tokens': 0, 'rejected_prediction_tokens': 0}, 'prompt_tokens_details': {'audio_tokens': 0, 'cached_tokens': 0}}, 'model_name': 'gpt-4o-2024-08-06', 'system_fingerprint': 'fp_f9f4fb6dbf', 'finish_reason': 'tool_calls', 'logprobs': None}, name='supervisor', id='run-72dbee78-3cad-4c06-a8d7-52068f4f3e34-0', tool_calls=[{'name': 'transfer_to_employee_agent', 'args': {}, 'id': 'call_irDo0wrxiF93HMMp6EKvY4Hk', 'type': 'tool_call'}], usage_metadata={'input_tokens': 112, 'output_tokens': 13, 'total_tokens': 125, 'input_token_details': {'audio': 0, 'cache_read': 0}, 'output_token_details': {'audio': 0, 'reasoning': 0}}),\n",
       "  ToolMessage(content='Successfully transferred to employee_agent', name='transfer_to_employee_agent', id='7b2f5460-6ce5-49cb-b17c-986feb72f4d9', tool_call_id='call_irDo0wrxiF93HMMp6EKvY4Hk'),\n",
       "  AIMessage(content='I\\'ve received the record of John Doe\\'s completion of the Python course on 2023-05-15 with a score of 95/100. Let\\'s proceed with adding his learning status to the system. Could you please indicate whether he belongs to a specific department, and if he needs to be marked as \"SI\" (completed) or \"NO\" (not completed) for his learning status?', additional_kwargs={'refusal': None}, response_metadata={'token_usage': {'completion_tokens': 82, 'prompt_tokens': 223, 'total_tokens': 305, 'completion_tokens_details': {'accepted_prediction_tokens': 0, 'audio_tokens': 0, 'reasoning_tokens': 0, 'rejected_prediction_tokens': 0}, 'prompt_tokens_details': {'audio_tokens': 0, 'cached_tokens': 0}}, 'model_name': 'gpt-4o-2024-08-06', 'system_fingerprint': 'fp_eb9dce56a8', 'finish_reason': 'stop', 'logprobs': None}, name='employee_agent', id='run-ff78fd97-f52f-4060-9fd3-071928be1af4-0', usage_metadata={'input_tokens': 223, 'output_tokens': 82, 'total_tokens': 305, 'input_token_details': {'audio': 0, 'cache_read': 0}, 'output_token_details': {'audio': 0, 'reasoning': 0}}),\n",
       "  AIMessage(content='Transferring back to supervisor', additional_kwargs={}, response_metadata={}, name='employee_agent', id='c666712a-55fc-46b0-bbe6-30081b1d4735', tool_calls=[{'name': 'transfer_back_to_supervisor', 'args': {}, 'id': '13f04310-aaae-48f3-a63d-70d58e152215', 'type': 'tool_call'}]),\n",
       "  ToolMessage(content='Successfully transferred back to supervisor', name='transfer_back_to_supervisor', id='6b3d48dd-c077-400c-8b11-78f7b7b0b092', tool_call_id='13f04310-aaae-48f3-a63d-70d58e152215'),\n",
       "  AIMessage(content='John Doe should be marked as \"SI\" (completed) for his learning status. Could you please proceed with updating his learning records?', additional_kwargs={'refusal': None}, response_metadata={'token_usage': {'completion_tokens': 29, 'prompt_tokens': 274, 'total_tokens': 303, 'completion_tokens_details': {'accepted_prediction_tokens': 0, 'audio_tokens': 0, 'reasoning_tokens': 0, 'rejected_prediction_tokens': 0}, 'prompt_tokens_details': {'audio_tokens': 0, 'cached_tokens': 0}}, 'model_name': 'gpt-4o-2024-08-06', 'system_fingerprint': 'fp_f9f4fb6dbf', 'finish_reason': 'stop', 'logprobs': None}, name='supervisor', id='run-0e927add-1505-40bb-a5fb-191e013109b9-0', usage_metadata={'input_tokens': 274, 'output_tokens': 29, 'total_tokens': 303, 'input_token_details': {'audio': 0, 'cache_read': 0}, 'output_token_details': {'audio': 0, 'reasoning': 0}})]}"
      ]
     },
     "execution_count": 10,
     "metadata": {},
     "output_type": "execute_result"
    }
   ],
   "source": [
    "result"
   ]
  }
 ],
 "metadata": {
  "kernelspec": {
   "display_name": "venv",
   "language": "python",
   "name": "python3"
  },
  "language_info": {
   "codemirror_mode": {
    "name": "ipython",
    "version": 3
   },
   "file_extension": ".py",
   "mimetype": "text/x-python",
   "name": "python",
   "nbconvert_exporter": "python",
   "pygments_lexer": "ipython3",
   "version": "3.13.1"
  }
 },
 "nbformat": 4,
 "nbformat_minor": 2
}
